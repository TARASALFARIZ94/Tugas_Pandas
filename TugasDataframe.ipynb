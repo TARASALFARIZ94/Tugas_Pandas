{
 "cells": [
  {
   "cell_type": "code",
   "execution_count": 11,
   "metadata": {},
   "outputs": [
    {
     "name": "stdout",
     "output_type": "stream",
     "text": [
      "    nama_kabupaten_kota  jumlah_produksi_sampah        satuan  tahun\n",
      "0       KABUPATEN BOGOR                 1511.15  TON PER HARI   2015\n",
      "1    KABUPATEN SUKABUMI                  419.01  TON PER HARI   2015\n",
      "2     KABUPATEN CIANJUR                  981.41  TON PER HARI   2015\n",
      "3     KABUPATEN BANDUNG                 1895.94  TON PER HARI   2015\n",
      "4       KABUPATEN GARUT                  464.74  TON PER HARI   2015\n",
      "..                  ...                     ...           ...    ...\n",
      "184         KOTA BEKASI                 1500.77  TON PER HARI   2021\n",
      "185          KOTA DEPOK                 1418.87  TON PER HARI   2021\n",
      "186         KOTA CIMAHI                  193.36  TON PER HARI   2021\n",
      "187    KOTA TASIKMALAYA                  295.87  TON PER HARI   2021\n",
      "188         KOTA BANJAR                   60.29  TON PER HARI   2021\n",
      "\n",
      "[189 rows x 4 columns]\n"
     ]
    }
   ],
   "source": [
    "import pandas as pd\n",
    "\n",
    "#Nomor 1 Membaca file csv untuk membuat Dataframe sampah\n",
    "data_list= pd.read_csv('CSV Sampah Jabar 2015-2021.csv')\n",
    "\n",
    "dataframe_list=data_list[['nama_kabupaten_kota','jumlah_produksi_sampah','satuan','tahun']]\n",
    "print(dataframe_list)"
   ]
  },
  {
   "cell_type": "code",
   "execution_count": 35,
   "metadata": {},
   "outputs": [
    {
     "name": "stdout",
     "output_type": "stream",
     "text": [
      "Total produksi sampah pada tahun 2019 adalah 24490.56 ton\n"
     ]
    }
   ],
   "source": [
    "#Nomor 2 total produksi sampah di seluruh Kabupaten/Kota di Jawa Barat untuk tahun 2019\n",
    "tahun_tertentu = 2019\n",
    "jumlah = 0\n",
    "\n",
    "for index, row in dataframe_list.iterrows():\n",
    "    if row['tahun'] == tahun_tertentu:\n",
    "        jumlah = jumlah + row['jumlah_produksi_sampah']\n",
    "print(f\"Total produksi sampah pada tahun 2019 adalah {jumlah:.2f} ton\")\n",
    "            \n",
    "\n"
   ]
  },
  {
   "cell_type": "code",
   "execution_count": 32,
   "metadata": {},
   "outputs": [
    {
     "name": "stdout",
     "output_type": "stream",
     "text": [
      "   Tahun  Jumlah Sampah (ton)\n",
      "0   2015             20969.27\n",
      "1   2016             20969.27\n",
      "2   2017             20969.27\n",
      "3   2018             22772.92\n",
      "4   2019             24490.56\n",
      "5   2020             25333.00\n",
      "6   2021             15735.36\n"
     ]
    }
   ],
   "source": [
    "#Nomor 3 Jumlahkan Data Pertahun\n",
    "total_per_tahun = {}\n",
    "\n",
    "for index, row in dataframe_list.iterrows():\n",
    "    tahun = row['tahun']\n",
    "    jumlah = row['jumlah_produksi_sampah']\n",
    "    if tahun in total_per_tahun:\n",
    "        total_per_tahun[tahun] += jumlah\n",
    "    else:\n",
    "        total_per_tahun[tahun] = jumlah\n",
    "\n",
    "# Konversi hasil ke DataFrame\n",
    "hasil_dataframe = pd.DataFrame(list(total_per_tahun.items()), columns=['Tahun', 'Jumlah Sampah (ton)'])\n",
    "\n",
    "print(hasil_dataframe)\n"
   ]
  },
  {
   "cell_type": "code",
   "execution_count": 49,
   "metadata": {},
   "outputs": [
    {
     "name": "stdout",
     "output_type": "stream",
     "text": [
      "                          Tahun  Kota/Kabupaten\n",
      "0       (KABUPATEN BOGOR, 2015)         1511.15\n",
      "1    (KABUPATEN SUKABUMI, 2015)          419.01\n",
      "2     (KABUPATEN CIANJUR, 2015)          981.41\n",
      "3     (KABUPATEN BANDUNG, 2015)         1895.94\n",
      "4       (KABUPATEN GARUT, 2015)          464.74\n",
      "..                          ...             ...\n",
      "184         (KOTA BEKASI, 2021)         1500.77\n",
      "185          (KOTA DEPOK, 2021)         1418.87\n",
      "186         (KOTA CIMAHI, 2021)          193.36\n",
      "187    (KOTA TASIKMALAYA, 2021)          295.87\n",
      "188         (KOTA BANJAR, 2021)           60.29\n",
      "\n",
      "[189 rows x 2 columns]\n"
     ]
    }
   ],
   "source": [
    "#Nomor 4 Jumlahkan data per Kota/Kabupaten per tahun\n",
    "\n",
    "total_kabkot_tahunan = {}\n",
    "\n",
    "for index, row in dataframe_list.iterrows():\n",
    "    kota_kabupaten = row['nama_kabupaten_kota']\n",
    "    tahun = row['tahun']\n",
    "    jumlah = row['jumlah_produksi_sampah']\n",
    "    key = (kota_kabupaten,tahun)\n",
    "\n",
    "    if key in total_kabkot_tahunan:\n",
    "        total_kabkot_tahunan[key] += jumlah\n",
    "    else:\n",
    "        total_kabkot_tahunan[key] = jumlah\n",
    "\n",
    "# Konversi hasil ke DataFrame\n",
    "hasil_dataframe_kabkot = pd.DataFrame(list(total_kabkot_tahunan.items()), columns=['Tahun','Kota/Kabupaten'])\n",
    "\n",
    "print(hasil_dataframe_kabkot)"
   ]
  },
  {
   "cell_type": "code",
   "execution_count": 53,
   "metadata": {},
   "outputs": [],
   "source": [
    "dataframe_list.to_csv('CSV Sampah Jabar.csv',index=False)\n",
    "dataframe_list.to_excel('Excel Sampah Jabar.xlsx',index=False)\n",
    "hasil_dataframe.to_csv('CSV Sampah Jabar Pertahun.csv',index=False)\n",
    "hasil_dataframe.to_excel('Excel Sampah Jabar Pertahun.xlsx',index=False)\n",
    "hasil_dataframe_kabkot.to_csv('CSV Sampah Jabar per kota kabupaten pertahun.csv',index=False)\n",
    "hasil_dataframe_kabkot.to_excel('Excel Sampah Jabar per kota kabupaten pertahun.xlsx',index=False)"
   ]
  }
 ],
 "metadata": {
  "kernelspec": {
   "display_name": "Python 3",
   "language": "python",
   "name": "python3"
  },
  "language_info": {
   "codemirror_mode": {
    "name": "ipython",
    "version": 3
   },
   "file_extension": ".py",
   "mimetype": "text/x-python",
   "name": "python",
   "nbconvert_exporter": "python",
   "pygments_lexer": "ipython3",
   "version": "3.12.6"
  }
 },
 "nbformat": 4,
 "nbformat_minor": 2
}
